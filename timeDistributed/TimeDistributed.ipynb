{
 "cells": [
  {
   "cell_type": "markdown",
   "metadata": {},
   "source": [
    "# Ejemplos timeDistributed\n",
    "\n",
    "\n",
    "\n",
    "<div class=\"alert alert-block alert-info\">\n",
    "Inspirado en:\n",
    "__[How to Use the TimeDistributed Layer for Long Short-Term Memory Networks in Python](https://machinelearningmastery.com/timedistributed-layer-for-long-short-term-memory-networks-in-python/)__\n",
    "</div>\n"
   ]
  },
  {
   "cell_type": "code",
   "execution_count": 14,
   "metadata": {
    "collapsed": false
   },
   "outputs": [
    {
     "name": "stdout",
     "output_type": "stream",
     "text": [
      "_________________________________________________________________\n",
      "Layer (type)                 Output Shape              Param #   \n",
      "=================================================================\n",
      "lstm_8 (LSTM)                (None, 5)                 140       \n",
      "_________________________________________________________________\n",
      "dense_8 (Dense)              (None, 1)                 6         \n",
      "=================================================================\n",
      "Total params: 146\n",
      "Trainable params: 146\n",
      "Non-trainable params: 0\n",
      "_________________________________________________________________\n",
      "None\n",
      "[[[ 0. ]]\n",
      "\n",
      " [[ 0.2]]\n",
      "\n",
      " [[ 0.4]]\n",
      "\n",
      " [[ 0.6]]\n",
      "\n",
      " [[ 0.8]]]\n",
      "[[ 0. ]\n",
      " [ 0.2]\n",
      " [ 0.4]\n",
      " [ 0.6]\n",
      " [ 0.8]]\n",
      "0.0\n",
      "0.2\n",
      "0.4\n",
      "0.6\n",
      "0.8\n"
     ]
    }
   ],
   "source": [
    "from keras.models import Sequential\n",
    "from keras.layers import Dense\n",
    "from keras.layers import LSTM\n",
    "import numpy as np\n",
    "# prepare sequence\n",
    "length = 5\n",
    "seq = np.array([i/float(length) for i in range(length)])\n",
    "X = seq.reshape(len(seq), 1, 1)\n",
    "y = seq.reshape(len(seq), 1)\n",
    "# define LSTM configuration\n",
    "n_neurons = length\n",
    "n_batch = length\n",
    "n_epoch = 1000\n",
    "# create LSTM\n",
    "model = Sequential()\n",
    "model.add(LSTM(n_neurons, input_shape=(1, 1)))\n",
    "model.add(Dense(1))\n",
    "model.compile(loss='mean_squared_error', optimizer='adam')\n",
    "print(model.summary())\n",
    "# train LSTM\n",
    "model.fit(X, y, epochs=n_epoch, batch_size=n_batch, verbose=0)\n",
    "# evaluate\n",
    "result = model.predict(X, batch_size=n_batch, verbose=0)\n",
    "print(X)\n",
    "print(y)\n",
    "for value in result:\n",
    "    print('%.1f' % value)"
   ]
  },
  {
   "cell_type": "code",
   "execution_count": 44,
   "metadata": {
    "collapsed": false
   },
   "outputs": [
    {
     "name": "stdout",
     "output_type": "stream",
     "text": [
      "_________________________________________________________________\n",
      "Layer (type)                 Output Shape              Param #   \n",
      "=================================================================\n",
      "lstm_26 (LSTM)               (None, 5)                 140       \n",
      "_________________________________________________________________\n",
      "dense_26 (Dense)             (None, 5)                 30        \n",
      "=================================================================\n",
      "Total params: 170\n",
      "Trainable params: 170\n",
      "Non-trainable params: 0\n",
      "_________________________________________________________________\n",
      "None\n",
      "[[[ 0. ]\n",
      "  [ 0.2]\n",
      "  [ 0.4]\n",
      "  [ 0.6]\n",
      "  [ 0.8]]]\n",
      "0.0\n",
      "0.2\n",
      "0.4\n",
      "0.6\n",
      "0.8\n"
     ]
    }
   ],
   "source": [
    "from numpy import array\n",
    "from keras.models import Sequential\n",
    "from keras.layers import Dense\n",
    "from keras.layers import LSTM\n",
    "# prepare sequence\n",
    "length = 5\n",
    "seq = array([i/float(length) for i in range(length)])\n",
    "X = seq.reshape(1, length, 1)\n",
    "y = seq.reshape(1, length)\n",
    "# define LSTM configuration\n",
    "n_neurons = length\n",
    "n_batch = 1\n",
    "n_epoch = 500\n",
    "# create LSTM\n",
    "model = Sequential()\n",
    "model.add(LSTM(n_neurons, input_shape=(length, 1)))\n",
    "model.add(Dense(length))\n",
    "model.compile(loss='mean_squared_error', optimizer='adam')\n",
    "print(model.summary())\n",
    "# train LSTM\n",
    "model.fit(X, y, epochs=n_epoch, batch_size=n_batch, verbose=0)\n",
    "# evaluate\n",
    "result = model.predict(X, batch_size=n_batch, verbose=0)\n",
    "print(X)\n",
    "for value in result[0,:]:\n",
    "\tprint('%.1f' % value)"
   ]
  },
  {
   "cell_type": "code",
   "execution_count": 2,
   "metadata": {
    "collapsed": false
   },
   "outputs": [
    {
     "name": "stdout",
     "output_type": "stream",
     "text": [
      "_________________________________________________________________\n",
      "Layer (type)                 Output Shape              Param #   \n",
      "=================================================================\n",
      "lstm_1 (LSTM)                (None, 11, 20)            1920      \n",
      "_________________________________________________________________\n",
      "time_distributed_1 (TimeDist (None, 11, 3)             63        \n",
      "=================================================================\n",
      "Total params: 1,983\n",
      "Trainable params: 1,983\n",
      "Non-trainable params: 0\n",
      "_________________________________________________________________\n",
      "None\n",
      "[[[  0.    0.   14. ]\n",
      "  [  0.2   0.3  12. ]\n",
      "  [  0.4   0.6  14. ]\n",
      "  [  0.6   0.9  12. ]\n",
      "  [  0.8   1.1  14. ]\n",
      "  [  1.    1.3  12. ]\n",
      "  [  1.2   1.5  14. ]\n",
      "  [  1.4   1.7  12. ]\n",
      "  [  1.6   1.9  14. ]\n",
      "  [  1.8   2.1  12. ]\n",
      "  [  2.    2.3  14. ]]]\n",
      "[[[  0.74941337   0.99251264   8.82220459]\n",
      "  [  1.00458193   1.25547361  11.01443672]\n",
      "  [  1.04455888   1.29650378  11.35266876]\n",
      "  [  1.05010903   1.30219126  11.39936924]\n",
      "  [  1.05087197   1.30297112  11.40573025]\n",
      "  [  1.05097592   1.3030771   11.40659332]\n",
      "  [  1.05099022   1.30309165  11.40670967]\n",
      "  [  1.05099213   1.30309367  11.40672684]\n",
      "  [  1.05099237   1.30309379  11.40672684]\n",
      "  [  1.05099249   1.30309391  11.40672684]\n",
      "  [  1.05099249   1.30309391  11.40672684]]]\n",
      "0.7\n",
      "1.0\n",
      "1.0\n",
      "1.1\n",
      "1.1\n",
      "1.1\n",
      "1.1\n",
      "1.1\n",
      "1.1\n",
      "1.1\n",
      "1.1\n"
     ]
    }
   ],
   "source": [
    "from numpy import array\n",
    "from keras.models import Sequential\n",
    "from keras.layers import Dense\n",
    "from keras.layers import TimeDistributed\n",
    "from keras.layers import LSTM\n",
    "# prepare sequence\n",
    "length = 11\n",
    "#seq = array([i/float(length) for i in range(length)])\n",
    "seq = array([[  0,   0, 14], \n",
    "             [0.2, 0.3, 12], \n",
    "             [0.4, 0.6, 14], \n",
    "             [0.6, 0.9, 12], \n",
    "             [0.8, 1.1, 14], \n",
    "             [1.0, 1.3, 12], \n",
    "             [1.2, 1.5, 14], \n",
    "             [1.4, 1.7, 12], \n",
    "             [1.6, 1.9, 14], \n",
    "             [1.8, 2.1, 12], \n",
    "             [2.0, 2.3, 14]])\n",
    "\n",
    "X = seq.reshape(1, length, 3)\n",
    "y = seq.reshape(1, length, 3)\n",
    "# define LSTM configuration\n",
    "n_neurons = length\n",
    "n_batch = 1\n",
    "n_epoch = 1000\n",
    "# create LSTM\n",
    "model = Sequential()\n",
    "model.add(LSTM(20, input_shape=(length, 3), return_sequences=True))\n",
    "model.add(TimeDistributed(Dense(3)))\n",
    "model.compile(loss='mean_squared_error', optimizer='adam')\n",
    "print(model.summary())\n",
    "# train LSTM\n",
    "model.fit(X, y, epochs=n_epoch, batch_size=n_batch, verbose=0)\n",
    "# evaluate\n",
    "result = model.predict(X, batch_size=n_batch, verbose=0)\n",
    "print(X)\n",
    "print(result)\n",
    "for value in result[0,:,0]:\n",
    "\tprint('%.1f' % value)"
   ]
  },
  {
   "cell_type": "code",
   "execution_count": 43,
   "metadata": {
    "collapsed": false
   },
   "outputs": [
    {
     "data": {
      "text/plain": [
       "array([[[ 0.02797817,  0.05717673],\n",
       "        [ 0.18083747,  0.27187762],\n",
       "        [ 0.3940286 ,  0.5844878 ],\n",
       "        [ 0.61285895,  0.91837245],\n",
       "        [ 0.79498917,  1.19486117]]], dtype=float32)"
      ]
     },
     "execution_count": 43,
     "metadata": {},
     "output_type": "execute_result"
    }
   ],
   "source": [
    "seq2 = array([[1, 1], [1.2, 1.3], [1.4, 0.6], [1.6, 0.9], [0.8, 1.2]])\n",
    "X2 = seq.reshape(1, length, 2)\n",
    "model.predict(X2, batch_size=n_batch, verbose=0)"
   ]
  }
 ],
 "metadata": {
  "kernelspec": {
   "display_name": "Python [conda env:tensorflow]",
   "language": "python",
   "name": "conda-env-tensorflow-py"
  },
  "language_info": {
   "codemirror_mode": {
    "name": "ipython",
    "version": 3
   },
   "file_extension": ".py",
   "mimetype": "text/x-python",
   "name": "python",
   "nbconvert_exporter": "python",
   "pygments_lexer": "ipython3",
   "version": "3.5.2"
  }
 },
 "nbformat": 4,
 "nbformat_minor": 2
}
