{
 "cells": [
  {
   "cell_type": "markdown",
   "metadata": {},
   "source": [
    "# Partiendo de los avances de Nerea\n",
    "\n",
    "Se ha parametrizado:<br>\n",
    ">timestep<br>\n",
    ">valProportion: _para definir que % se deja para validación_<br>\n",
    ">usedCols: _para seleccionar las columnas_<br>\n",
    ">n_features: _se calcula partiendo de usedCols. La cantidad de columnas._<br>\n",
    "\n",
    "<div class=\"alert alert-block alert-info\">\n",
    "Inspirado en:\n",
    "__[Multivariate Time Series Forecasting with LSTMs in Keras](https://machinelearningmastery.com/multivariate-time-series-forecasting-lstms-keras/)__\n",
    "</div>\n",
    "\n",
    "# 2017 - 12 - 13 intentando añadir el concepto timeDistributed\n",
    "\n",
    "\n",
    "\n",
    "<div class=\"alert alert-block alert-info\">\n",
    "Inspirado en:\n",
    "__[How to Use the TimeDistributed Layer for Long Short-Term Memory Networks in Python](https://machinelearningmastery.com/timedistributed-layer-for-long-short-term-memory-networks-in-python/)__\n",
    "</div>\n",
    "\n",
    "El objetivo es predecir steps a futuro de una única variable.\n",
    "\n"
   ]
  },
  {
   "cell_type": "code",
   "execution_count": 1,
   "metadata": {
    "collapsed": false
   },
   "outputs": [
    {
     "name": "stderr",
     "output_type": "stream",
     "text": [
      "Using TensorFlow backend.\n"
     ]
    }
   ],
   "source": [
    "from math import sqrt\n",
    "from numpy import concatenate\n",
    "from matplotlib import pyplot\n",
    "from pandas import read_csv\n",
    "from pandas import DataFrame\n",
    "from pandas import concat\n",
    "from sklearn.preprocessing import MinMaxScaler\n",
    "from sklearn.preprocessing import LabelEncoder\n",
    "from sklearn.metrics import mean_squared_error\n",
    "from keras.models import Sequential\n",
    "from keras.layers import Dense, Activation\n",
    "from keras.layers import LSTM\n",
    "from keras.layers import TimeDistributed\n"
   ]
  },
  {
   "cell_type": "code",
   "execution_count": 2,
   "metadata": {
    "collapsed": true
   },
   "outputs": [],
   "source": [
    "# convert series to supervised learning\n",
    "def series_to_supervised(data, n_in=1, n_out=1, dropnan=True):\n",
    "    #print(data.shape[1])\n",
    "    n_vars = 1 if type(data) is list else data.shape[1]\n",
    "    df = DataFrame(data)\n",
    "    cols, names = list(), list()\n",
    "    # input sequence (t-n, ... t-1)\n",
    "    for i in range(n_in, 0, -1):\n",
    "        cols.append(df.shift(i))\n",
    "        names += [('var%d(t-%d)' % (j+1, i)) for j in range(n_vars)]\n",
    "    # forecast sequence (t, t+1, ... t+n)\n",
    "    for i in range(0, n_out):\n",
    "        cols.append(df.iloc[:,-1].shift(-i))\n",
    "        if i == 0:\n",
    "            #names += [('var%d(t)' % (j+1)) for j in range(n_vars)]\n",
    "            names += ['var(t)']\n",
    "            #names += [('var%d(t)' % (n_vars+1))]\n",
    "            \n",
    "        else:\n",
    "            #names += [('var%d(t+%d)' % (j+1, i)) for j in range(n_vars)]\n",
    "            names += [('var(t+%d)' % (i))]\n",
    "            #names += [('var%d(t+%d)' % (n_vars+1))]\n",
    "    # put it all together\n",
    "    agg = concat(cols, axis=1)\n",
    "    agg.columns = names\n",
    "    # drop rows with NaN values\n",
    "    if dropnan:\n",
    "        agg.dropna(inplace=True)\n",
    "    return agg"
   ]
  },
  {
   "cell_type": "code",
   "execution_count": 3,
   "metadata": {
    "collapsed": false
   },
   "outputs": [
    {
     "name": "stdout",
     "output_type": "stream",
     "text": [
      "n_features --> 8\n"
     ]
    }
   ],
   "source": [
    "futureSteps=2\n",
    "timestep=5\n",
    "valProportion=0.02\n",
    "#usedCols=[ \"LME_PR_AL_serie_MOM_15\",\"LME_PR_AL_serie_ROC_7\", \"LME_PR_AL_serie_MOM_30\", \"OPEC_ORB_serie_ROC_7\", \"OPEC_ORB_serie_MOM_30\", \"OPEC_ORB_serie_ROC_30\", \"OPEC_ORB_serie_ROC_15\", \"LME_PR_AL_serie_close\"]\n",
    "usedCols=[\"LME_PR_AL_serie_MOM_15\",\"LME_PR_AL_serie_ROC_7\", \"LME_PR_AL_serie_MOM_30\", \"OPEC_ORB_serie_ROC_7\", \"OPEC_ORB_serie_MOM_30\", \"OPEC_ORB_serie_ROC_30\", \"OPEC_ORB_serie_ROC_15\",\"LME_PR_AL_serie_close\"]\n",
    "#usedCols=[\"LME_PR_AL_serie_close\"]\n",
    "n_features = len(usedCols)\n",
    "print(\"n_features --> \" + str(n_features))"
   ]
  },
  {
   "cell_type": "code",
   "execution_count": 4,
   "metadata": {
    "collapsed": false
   },
   "outputs": [
    {
     "data": {
      "text/html": [
       "<div>\n",
       "<table border=\"1\" class=\"dataframe\">\n",
       "  <thead>\n",
       "    <tr style=\"text-align: right;\">\n",
       "      <th></th>\n",
       "      <th>var1(t-5)</th>\n",
       "      <th>var2(t-5)</th>\n",
       "      <th>var3(t-5)</th>\n",
       "      <th>var4(t-5)</th>\n",
       "      <th>var5(t-5)</th>\n",
       "      <th>var6(t-5)</th>\n",
       "      <th>var7(t-5)</th>\n",
       "      <th>var8(t-5)</th>\n",
       "      <th>var1(t-4)</th>\n",
       "      <th>var2(t-4)</th>\n",
       "      <th>...</th>\n",
       "      <th>var1(t-1)</th>\n",
       "      <th>var2(t-1)</th>\n",
       "      <th>var3(t-1)</th>\n",
       "      <th>var4(t-1)</th>\n",
       "      <th>var5(t-1)</th>\n",
       "      <th>var6(t-1)</th>\n",
       "      <th>var7(t-1)</th>\n",
       "      <th>var8(t-1)</th>\n",
       "      <th>var(t)</th>\n",
       "      <th>var(t+1)</th>\n",
       "    </tr>\n",
       "  </thead>\n",
       "  <tbody>\n",
       "    <tr>\n",
       "      <th>35</th>\n",
       "      <td>-27.5</td>\n",
       "      <td>-0.005747</td>\n",
       "      <td>157.0</td>\n",
       "      <td>0.028574</td>\n",
       "      <td>7.23</td>\n",
       "      <td>0.043856</td>\n",
       "      <td>0.053568</td>\n",
       "      <td>2162.5</td>\n",
       "      <td>-12.5</td>\n",
       "      <td>0.000460</td>\n",
       "      <td>...</td>\n",
       "      <td>-80.5</td>\n",
       "      <td>-0.039901</td>\n",
       "      <td>68.5</td>\n",
       "      <td>0.023881</td>\n",
       "      <td>6.68</td>\n",
       "      <td>0.054965</td>\n",
       "      <td>0.071756</td>\n",
       "      <td>2129.5</td>\n",
       "      <td>2175.0</td>\n",
       "      <td>2211.0</td>\n",
       "    </tr>\n",
       "    <tr>\n",
       "      <th>36</th>\n",
       "      <td>-12.5</td>\n",
       "      <td>0.000460</td>\n",
       "      <td>122.0</td>\n",
       "      <td>0.028427</td>\n",
       "      <td>6.21</td>\n",
       "      <td>0.043717</td>\n",
       "      <td>0.060040</td>\n",
       "      <td>2173.0</td>\n",
       "      <td>-115.0</td>\n",
       "      <td>-0.053444</td>\n",
       "      <td>...</td>\n",
       "      <td>-82.0</td>\n",
       "      <td>-0.014499</td>\n",
       "      <td>38.0</td>\n",
       "      <td>0.017066</td>\n",
       "      <td>6.21</td>\n",
       "      <td>0.055713</td>\n",
       "      <td>0.077570</td>\n",
       "      <td>2175.0</td>\n",
       "      <td>2211.0</td>\n",
       "      <td>2228.5</td>\n",
       "    </tr>\n",
       "    <tr>\n",
       "      <th>37</th>\n",
       "      <td>-115.0</td>\n",
       "      <td>-0.053444</td>\n",
       "      <td>113.5</td>\n",
       "      <td>0.025612</td>\n",
       "      <td>5.13</td>\n",
       "      <td>0.052571</td>\n",
       "      <td>0.061270</td>\n",
       "      <td>2116.5</td>\n",
       "      <td>-114.0</td>\n",
       "      <td>-0.047043</td>\n",
       "      <td>...</td>\n",
       "      <td>-8.0</td>\n",
       "      <td>0.022428</td>\n",
       "      <td>77.0</td>\n",
       "      <td>0.036354</td>\n",
       "      <td>7.97</td>\n",
       "      <td>0.070309</td>\n",
       "      <td>0.090688</td>\n",
       "      <td>2211.0</td>\n",
       "      <td>2228.5</td>\n",
       "      <td>2252.5</td>\n",
       "    </tr>\n",
       "    <tr>\n",
       "      <th>38</th>\n",
       "      <td>-114.0</td>\n",
       "      <td>-0.047043</td>\n",
       "      <td>108.0</td>\n",
       "      <td>0.020041</td>\n",
       "      <td>6.36</td>\n",
       "      <td>0.054040</td>\n",
       "      <td>0.067321</td>\n",
       "      <td>2127.0</td>\n",
       "      <td>-80.5</td>\n",
       "      <td>-0.039901</td>\n",
       "      <td>...</td>\n",
       "      <td>28.5</td>\n",
       "      <td>0.025541</td>\n",
       "      <td>71.5</td>\n",
       "      <td>0.031796</td>\n",
       "      <td>8.76</td>\n",
       "      <td>0.088949</td>\n",
       "      <td>0.093744</td>\n",
       "      <td>2228.5</td>\n",
       "      <td>2252.5</td>\n",
       "      <td>2266.5</td>\n",
       "    </tr>\n",
       "    <tr>\n",
       "      <th>39</th>\n",
       "      <td>-80.5</td>\n",
       "      <td>-0.039901</td>\n",
       "      <td>68.5</td>\n",
       "      <td>0.023881</td>\n",
       "      <td>6.68</td>\n",
       "      <td>0.054965</td>\n",
       "      <td>0.071756</td>\n",
       "      <td>2129.5</td>\n",
       "      <td>-82.0</td>\n",
       "      <td>-0.014499</td>\n",
       "      <td>...</td>\n",
       "      <td>94.5</td>\n",
       "      <td>0.064257</td>\n",
       "      <td>143.0</td>\n",
       "      <td>0.040041</td>\n",
       "      <td>11.11</td>\n",
       "      <td>0.099812</td>\n",
       "      <td>0.083517</td>\n",
       "      <td>2252.5</td>\n",
       "      <td>2266.5</td>\n",
       "      <td>2307.5</td>\n",
       "    </tr>\n",
       "  </tbody>\n",
       "</table>\n",
       "<p>5 rows × 42 columns</p>\n",
       "</div>"
      ],
      "text/plain": [
       "    var1(t-5)  var2(t-5)  var3(t-5)  var4(t-5)  var5(t-5)  var6(t-5)  \\\n",
       "35      -27.5  -0.005747      157.0   0.028574       7.23   0.043856   \n",
       "36      -12.5   0.000460      122.0   0.028427       6.21   0.043717   \n",
       "37     -115.0  -0.053444      113.5   0.025612       5.13   0.052571   \n",
       "38     -114.0  -0.047043      108.0   0.020041       6.36   0.054040   \n",
       "39      -80.5  -0.039901       68.5   0.023881       6.68   0.054965   \n",
       "\n",
       "    var7(t-5)  var8(t-5)  var1(t-4)  var2(t-4)    ...     var1(t-1)  \\\n",
       "35   0.053568     2162.5      -12.5   0.000460    ...         -80.5   \n",
       "36   0.060040     2173.0     -115.0  -0.053444    ...         -82.0   \n",
       "37   0.061270     2116.5     -114.0  -0.047043    ...          -8.0   \n",
       "38   0.067321     2127.0      -80.5  -0.039901    ...          28.5   \n",
       "39   0.071756     2129.5      -82.0  -0.014499    ...          94.5   \n",
       "\n",
       "    var2(t-1)  var3(t-1)  var4(t-1)  var5(t-1)  var6(t-1)  var7(t-1)  \\\n",
       "35  -0.039901       68.5   0.023881       6.68   0.054965   0.071756   \n",
       "36  -0.014499       38.0   0.017066       6.21   0.055713   0.077570   \n",
       "37   0.022428       77.0   0.036354       7.97   0.070309   0.090688   \n",
       "38   0.025541       71.5   0.031796       8.76   0.088949   0.093744   \n",
       "39   0.064257      143.0   0.040041      11.11   0.099812   0.083517   \n",
       "\n",
       "    var8(t-1)  var(t)  var(t+1)  \n",
       "35     2129.5  2175.0    2211.0  \n",
       "36     2175.0  2211.0    2228.5  \n",
       "37     2211.0  2228.5    2252.5  \n",
       "38     2228.5  2252.5    2266.5  \n",
       "39     2252.5  2266.5    2307.5  \n",
       "\n",
       "[5 rows x 42 columns]"
      ]
     },
     "execution_count": 4,
     "metadata": {},
     "output_type": "execute_result"
    }
   ],
   "source": [
    "# load dataset\n",
    "dataset = read_csv('../data/data4.csv',usecols=usedCols)[usedCols]\n",
    "values = dataset.values\n",
    "reframed =  series_to_supervised(values,timestep, futureSteps)\n",
    "# ensure all data is float\n",
    "values = reframed.astype('float32')\n",
    "values.head()"
   ]
  },
  {
   "cell_type": "code",
   "execution_count": 5,
   "metadata": {
    "collapsed": false
   },
   "outputs": [
    {
     "name": "stdout",
     "output_type": "stream",
     "text": [
      "(1052, 42)\n",
      "[ 0.35221907  0.0059844   0.73811321  0.53793993  0.7883423   0.57391248\n",
      "  0.00231125  0.83597285  0.40471869  0.00649836  0.68528302  0.53757756\n",
      "  0.78945129  0.58492562  0.00235549  0.84785068  0.21869328  0.00203537\n",
      "  0.67245283  0.53063977  0.77488712  0.5966762   0.0023639   0.78393665\n",
      "  0.22050817  0.00256531  0.66415094  0.51690933  0.79534785  0.59862587\n",
      "  0.59679184  0.79581448  0.28130672  0.00315665  0.6045283   0.5263734\n",
      "  0.79191919  0.55256679  0.60431501  0.79864253  0.85011312  0.8908371 ]\n",
      "[ 0.38054769  0.00649836  0.68528302  0.53757756  0.76725921  0.57373165\n",
      "  0.00235549  0.84785068  0.21869328  0.00203537  0.67245283  0.53063977\n",
      "  0.76648234  0.5966762   0.0023639   0.78393665  0.22050817  0.00256531\n",
      "  0.66415094  0.51690933  0.80133304  0.59862587  0.00240526  0.79581448\n",
      "  0.28130672  0.00315665  0.6045283   0.5263734   0.8021767   0.59985462\n",
      "  0.60431501  0.79864253  0.27858439  0.00525977  0.55849057  0.50957683\n",
      "  0.78136925  0.55349788  0.61417587  0.85011312  0.8908371   0.91063348]\n"
     ]
    }
   ],
   "source": [
    "# normalize features\n",
    "scaler = MinMaxScaler(feature_range=(0, 1))\n",
    "scaled = scaler.fit_transform(values)\n",
    "print(scaled.shape)\n",
    "print(scaled[0])\n",
    "print(scaled[1])\n",
    "\n"
   ]
  },
  {
   "cell_type": "code",
   "execution_count": 6,
   "metadata": {
    "collapsed": false,
    "scrolled": true
   },
   "outputs": [
    {
     "name": "stdout",
     "output_type": "stream",
     "text": [
      "train\n",
      "(1031, 42)\n",
      "test\n",
      "(21, 42)\n"
     ]
    }
   ],
   "source": [
    "# specify the number of lag hours\n",
    "\n",
    "\n",
    "# split into train and test sets\n",
    "#values = reframed.values\n",
    "#print(values.shape)\n",
    "n_train_hours = round(scaled.shape[0] * (1-valProportion))\n",
    "train = scaled[:n_train_hours, :]\n",
    "test = scaled[n_train_hours:, :]\n",
    "\n",
    "\n",
    "\n",
    "\n",
    "print(\"train\")\n",
    "print (train.shape)\n",
    "print(\"test\")\n",
    "print (test.shape)\n",
    "\n",
    "\n"
   ]
  },
  {
   "cell_type": "code",
   "execution_count": 7,
   "metadata": {
    "collapsed": false
   },
   "outputs": [
    {
     "name": "stdout",
     "output_type": "stream",
     "text": [
      "(1031, 40) 1031 (1031, 2)\n",
      "(1031, 5, 8) (1031, 2) (21, 5, 8) (21, 2)\n",
      "_________________________________________________________________\n",
      "Layer (type)                 Output Shape              Param #   \n",
      "=================================================================\n",
      "lstm_1 (LSTM)                (None, 10)                760       \n",
      "_________________________________________________________________\n",
      "dense_1 (Dense)              (None, 2)                 22        \n",
      "=================================================================\n",
      "Total params: 782\n",
      "Trainable params: 782\n",
      "Non-trainable params: 0\n",
      "_________________________________________________________________\n",
      "None\n"
     ]
    }
   ],
   "source": [
    "# split into input and outputs\n",
    "#n_obs = 1000\n",
    "# n_obs = n_hours\n",
    "\n",
    "#print (train[:, -n_features])\n",
    "train_X, train_y = train[:, :n_features*timestep], train[:,n_features*timestep:]\n",
    "test_X, test_y = test[:, :n_features*timestep], test[:, n_features*timestep:]\n",
    "\n",
    "print(train_X.shape, len(train_X), train_y.shape)\n",
    "\n",
    "\n",
    "\n",
    "# reshape input to be 3D [samples, timesteps, features]\n",
    "train_X = train_X.reshape((train_X.shape[0], timestep, n_features))\n",
    "#train_y = train_y.reshape((train_y.shape[0], 1, train_y.shape[1]))\n",
    "\n",
    "\n",
    "test_X = test_X.reshape((test_X.shape[0], timestep, n_features))\n",
    "#test_y = test_y.reshape((test_y.shape[0], 1, test_y.shape[1]))\n",
    "\n",
    "print(train_X.shape, train_y.shape, test_X.shape, test_y.shape)\n",
    "\n",
    "\n",
    "# design network\n",
    "#model = Sequential()\n",
    "#model.add(LSTM(100, input_shape=(train_X.shape[1], train_X.shape[2])))\n",
    "#model.add(Dense(n_features))\n",
    "#model.compile(loss='mae', optimizer='adam', metrics=['accuracy'])\n",
    "#model.summary()\n",
    "\n",
    "model = Sequential()\n",
    "model.add(LSTM(10, input_shape=(timestep, n_features), return_sequences=False))\n",
    "#model.add(TimeDistributed(Dense(futureSteps)))\n",
    "model.add(Dense(futureSteps))\n",
    "model.compile(loss='mean_squared_error', optimizer='adam',  metrics=['accuracy'])\n",
    "print(model.summary())"
   ]
  },
  {
   "cell_type": "code",
   "execution_count": 12,
   "metadata": {
    "collapsed": false
   },
   "outputs": [
    {
     "data": {
      "image/png": "[encoded data removed]",
      "text/plain": [
       "<matplotlib.figure.Figure at 0x7f399481ad68>"
      ]
     },
     "metadata": {},
     "output_type": "display_data"
    },
    {
     "data": {
      "image/png": "[encoded data removed]",
      "text/plain": [
       "<matplotlib.figure.Figure at 0x7f3990e10240>"
      ]
     },
     "metadata": {},
     "output_type": "display_data"
    }
   ],
   "source": [
    "# fit network\n",
    "history = model.fit(train_X, train_y, epochs=10, batch_size=8, validation_data=(test_X, test_y), verbose=0, shuffle=True)\n",
    "\n",
    "# plot history\n",
    "pyplot.plot(history.history['loss'], label='train loss')\n",
    "pyplot.plot(history.history['val_loss'], label='val loss')\n",
    "pyplot.legend()\n",
    "pyplot.show()\n",
    "# plot history\n",
    "pyplot.plot(history.history['acc'], label='train acc')\n",
    "pyplot.plot(history.history['val_acc'], label='val acc')\n",
    "pyplot.legend()\n",
    "pyplot.show()\n"
   ]
  },
  {
   "cell_type": "code",
   "execution_count": 13,
   "metadata": {
    "collapsed": false
   },
   "outputs": [
    {
     "name": "stdout",
     "output_type": "stream",
     "text": [
      "[array([[ 0.79973555,  0.82480466]], dtype=float32), array([[ 0.79152334,  0.8043415 ]], dtype=float32), array([[ 0.80662286,  0.82684553]], dtype=float32), array([[ 0.80655587,  0.81319034]], dtype=float32), array([[ 0.82540178,  0.83718151]], dtype=float32), array([[ 0.81286335,  0.81802303]], dtype=float32), array([[ 0.820979  ,  0.83692658]], dtype=float32), array([[ 0.82468247,  0.83693391]], dtype=float32), array([[ 0.81631899,  0.82900524]], dtype=float32), array([[ 0.77451432,  0.78122348]], dtype=float32), array([[ 0.75648785,  0.7888841 ]], dtype=float32)]\n"
     ]
    }
   ],
   "source": [
    "#print(test_X[:1])\n",
    "#print(model.predict(test_X[:1]))\n",
    "#print(test_X[1:2])\n",
    "#print(model.predict(test_X[1:2]))\n",
    "predicted_data = []\n",
    "\n",
    "for i in range(0,test_X.shape[0],futureSteps):\n",
    "  predicted_data.append( model.predict(test_X[i:i+1]))\n",
    "\n",
    "print(predicted_data)"
   ]
  },
  {
   "cell_type": "code",
   "execution_count": 14,
   "metadata": {
    "collapsed": false
   },
   "outputs": [
    {
     "name": "stdout",
     "output_type": "stream",
     "text": [
      "(21, 2)\n"
     ]
    },
    {
     "data": {
      "image/png": "[encoded data removed]",
      "text/plain": [
       "<matplotlib.figure.Figure at 0x7f3990e0ae80>"
      ]
     },
     "metadata": {},
     "output_type": "display_data"
    }
   ],
   "source": [
    "import matplotlib.pyplot as plt\n",
    "import numpy as np\n",
    "print (test_y.shape)\n",
    "fig = plt.figure(facecolor='white')\n",
    "ax = fig.add_subplot(111)\n",
    "ax.plot(test_y[:,0], label='True Data')\n",
    "\n",
    "#Pad the list of predictions to shift it in the graph to it's correct start\n",
    "for i, data in enumerate(predicted_data):\n",
    "    padding = [None for p in range(i * futureSteps)]\n",
    "    x = np.array(padding)\n",
    "    #print(x.shape)\n",
    "    #print(predicted_data[i][0])\n",
    "    y = np.array(predicted_data[i][0])\n",
    "    #print(y.shape)\n",
    "    \n",
    "    \n",
    "    #print(np.append(x , y))\n",
    "    \n",
    "    plt.plot(np.append(x , y), label='Prediction')\n",
    "    plt.legend()\n",
    "plt.show()"
   ]
  },
  {
   "cell_type": "code",
   "execution_count": 11,
   "metadata": {
    "collapsed": false
   },
   "outputs": [
    {
     "data": {
      "text/plain": [
       "'print(test_X.shape)\\ntest_X = test_X.reshape((test_X.shape[0], timestep, n_features))\\nprint(test_X.shape)\\n# make a prediction\\nyhat = model.predict(test_X)\\nprint(\"yhat.shape -->\" + str(yhat.shape))\\ntest_X = test_X.reshape((test_X.shape[0], timestep*n_features))\\nprint(test_X.shape)\\n\\n# invert scaling for forecast\\nprint(yhat.shape)\\ninv_yhat = concatenate((yhat, test_X[:, -n_features:]), axis=1)\\nprint(\"inv_hat\")\\nprint(inv_yhat)\\n\\ninv_yhat = scaler.inverse_transform(inv_yhat)\\ninv_yhat = inv_yhat[:,0]\\n#invert scaling for actual\\ntest_y = test_y.reshape((len(test_y), 1))\\ninv_y = concatenate((test_y, test_X[:, -7:]), axis=1)\\ninv_y = scaler.inverse_transform(inv_y)\\ninv_y = inv_y[:,0]\\n# calculate RMSE\\nrmse = sqrt(mean_squared_error(inv_y, inv_yhat))\\n#rmse = sqrt(mean_squared_error(yhat, test_X[:, -1:]))\\nprint(\\'Test RMSE: %.3f\\' % rmse)'"
      ]
     },
     "execution_count": 11,
     "metadata": {},
     "output_type": "execute_result"
    }
   ],
   "source": [
    "'''print(test_X.shape)\n",
    "test_X = test_X.reshape((test_X.shape[0], timestep, n_features))\n",
    "print(test_X.shape)\n",
    "# make a prediction\n",
    "yhat = model.predict(test_X)\n",
    "print(\"yhat.shape -->\" + str(yhat.shape))\n",
    "test_X = test_X.reshape((test_X.shape[0], timestep*n_features))\n",
    "print(test_X.shape)\n",
    "\n",
    "# invert scaling for forecast\n",
    "print(yhat.shape)\n",
    "inv_yhat = concatenate((yhat, test_X[:, -n_features:]), axis=1)\n",
    "print(\"inv_hat\")\n",
    "print(inv_yhat)\n",
    "\n",
    "inv_yhat = scaler.inverse_transform(inv_yhat)\n",
    "inv_yhat = inv_yhat[:,0]\n",
    "#invert scaling for actual\n",
    "test_y = test_y.reshape((len(test_y), 1))\n",
    "inv_y = concatenate((test_y, test_X[:, -7:]), axis=1)\n",
    "inv_y = scaler.inverse_transform(inv_y)\n",
    "inv_y = inv_y[:,0]\n",
    "# calculate RMSE\n",
    "rmse = sqrt(mean_squared_error(inv_y, inv_yhat))\n",
    "#rmse = sqrt(mean_squared_error(yhat, test_X[:, -1:]))\n",
    "print('Test RMSE: %.3f' % rmse)'''"
   ]
  }
 ],
 "metadata": {
  "kernelspec": {
   "display_name": "Python [default]",
   "language": "python",
   "name": "python3"
  },
  "language_info": {
   "codemirror_mode": {
    "name": "ipython",
    "version": 3
   },
   "file_extension": ".py",
   "mimetype": "text/x-python",
   "name": "python",
   "nbconvert_exporter": "python",
   "pygments_lexer": "ipython3",
   "version": "3.5.2"
  }
 },
 "nbformat": 4,
 "nbformat_minor": 2
}
