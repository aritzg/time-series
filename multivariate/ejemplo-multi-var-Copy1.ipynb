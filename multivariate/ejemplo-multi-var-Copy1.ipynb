{
 "cells": [
  {
   "cell_type": "code",
   "execution_count": 134,
   "metadata": {
    "collapsed": false
   },
   "outputs": [
    {
     "name": "stdout",
     "output_type": "stream",
     "text": [
      "4\n"
     ]
    }
   ],
   "source": [
    "from math import sqrt\n",
    "from numpy import concatenate\n",
    "from matplotlib import pyplot\n",
    "from pandas import read_csv\n",
    "from pandas import DataFrame\n",
    "from pandas import concat\n",
    "from sklearn.preprocessing import MinMaxScaler\n",
    "from sklearn.preprocessing import LabelEncoder\n",
    "from sklearn.metrics import mean_squared_error\n",
    "from keras.models import Sequential\n",
    "from keras.layers import Dense\n",
    "from keras.layers import LSTM\n",
    "\n",
    "# convert series to supervised learning\n",
    "def series_to_supervised(data, n_in=1, n_out=1, dropnan=True):\n",
    "    print(data.shape[1])\n",
    "    n_vars = 1 if type(data) is list else data.shape[1]\n",
    "    df = DataFrame(data)\n",
    "    cols, names = list(), list()\n",
    "    # input sequence (t-n, ... t-1)\n",
    "    for i in range(n_in, 0, -1):\n",
    "        cols.append(df.shift(i))\n",
    "        names += [('var%d(t-%d)' % (j+1, i)) for j in range(n_vars)]\n",
    "    # forecast sequence (t, t+1, ... t+n)\n",
    "    for i in range(0, n_out):\n",
    "        cols.append(df.shift(-i))\n",
    "        if i == 0:\n",
    "            names += [('var%d(t)' % (j+1)) for j in range(n_vars)]\n",
    "        else:\n",
    "            names += [('var%d(t+%d)' % (j+1, i)) for j in range(n_vars)]\n",
    "    # put it all together\n",
    "    agg = concat(cols, axis=1)\n",
    "    agg.columns = names\n",
    "    # drop rows with NaN values\n",
    "    if dropnan:\n",
    "        agg.dropna(inplace=True)\n",
    "    return agg\n",
    "\n",
    "# load dataset\n",
    "dataset = read_csv('data/data4.csv',usecols=[\"LME_PR_AL_serie_ROC_7\", \"LME_PR_AL_serie_MOM_15\", \"LME_PR_AL_serie_MOM_30\", \"LME_PR_AL_serie_close\"])\n",
    "values = dataset.values\n",
    "reframed =  series_to_supervised(values,1, 1)\n",
    "# ensure all data is float\n",
    "values = reframed.astype('float32')"
   ]
  },
  {
   "cell_type": "code",
   "execution_count": 135,
   "metadata": {
    "collapsed": true
   },
   "outputs": [],
   "source": [
    "# normalize features\n",
    "scaler = MinMaxScaler(feature_range=(0, 1))\n",
    "scaled = scaler.fit_transform(values)"
   ]
  },
  {
   "cell_type": "code",
   "execution_count": 136,
   "metadata": {
    "collapsed": false,
    "scrolled": true
   },
   "outputs": [
    {
     "name": "stdout",
     "output_type": "stream",
     "text": [
      "test\n",
      "(122, 8)\n",
      "train\n",
      "(1250, 8)\n",
      "[ 0.00649836  0.00203537  0.00256531 ...,  0.00882454  0.00798815\n",
      "  0.0087662 ]\n",
      "(1250, 8) 1250 (1250,)\n",
      "(1250, 2, 4) (1250,) (122, 2, 4) (122,)\n"
     ]
    }
   ],
   "source": [
    "# specify the number of lag hours\n",
    "\n",
    "\n",
    "# split into train and test sets\n",
    "#values = reframed.values\n",
    "#print(values.shape)\n",
    "n_train_hours = 1250\n",
    "train = scaled[:n_train_hours, :]\n",
    "test = scaled[n_train_hours:, :]\n",
    "print(\"test\")\n",
    "print (test.shape)\n",
    "print(\"train\")\n",
    "print (train.shape)\n",
    "\n",
    "\n",
    "# split into input and outputs\n",
    "n_obs = 1000\n",
    "# n_obs = n_hours\n",
    "n_features = 4\n",
    "n_hours = 2\n",
    "print (train[:, -n_features])\n",
    "train_X, train_y = train[:, :n_obs], train[:, -n_features]\n",
    "test_X, test_y = test[:, :n_obs], test[:, -n_features]\n",
    "print(train_X.shape, len(train_X), train_y.shape)\n",
    "\n",
    "\n",
    "\n",
    "# reshape input to be 3D [samples, timesteps, features]\n",
    "train_X = train_X.reshape((train_X.shape[0], n_hours, n_features))\n",
    "test_X = test_X.reshape((test_X.shape[0], n_hours, n_features))\n",
    "print(train_X.shape, train_y.shape, test_X.shape, test_y.shape)\n",
    "\n",
    "\n",
    "# design network\n",
    "model = Sequential()\n",
    "model.add(LSTM(50, input_shape=(train_X.shape[1], train_X.shape[2])))\n",
    "model.add(Dense(1))\n",
    "model.compile(loss='mae', optimizer='adam', metrics=['accuracy'])\n"
   ]
  },
  {
   "cell_type": "code",
   "execution_count": 137,
   "metadata": {
    "collapsed": false
   },
   "outputs": [
    {
     "name": "stdout",
     "output_type": "stream",
     "text": [
      "Train on 1250 samples, validate on 122 samples\n",
      "Epoch 1/20\n",
      " - 0s - loss: 0.0117 - acc: 8.0000e-04 - val_loss: 0.0228 - val_acc: 0.0000e+00\n",
      "Epoch 2/20\n",
      " - 0s - loss: 0.0099 - acc: 8.0000e-04 - val_loss: 0.0267 - val_acc: 0.0000e+00\n",
      "Epoch 3/20\n",
      " - 0s - loss: 0.0102 - acc: 8.0000e-04 - val_loss: 0.0250 - val_acc: 0.0000e+00\n",
      "Epoch 4/20\n",
      " - 0s - loss: 0.0070 - acc: 8.0000e-04 - val_loss: 0.0099 - val_acc: 0.0000e+00\n",
      "Epoch 5/20\n",
      " - 0s - loss: 0.0034 - acc: 8.0000e-04 - val_loss: 0.0094 - val_acc: 0.0000e+00\n",
      "Epoch 6/20\n",
      " - 0s - loss: 0.0016 - acc: 8.0000e-04 - val_loss: 0.0091 - val_acc: 0.0000e+00\n",
      "Epoch 7/20\n",
      " - 0s - loss: 0.0016 - acc: 8.0000e-04 - val_loss: 0.0093 - val_acc: 0.0000e+00\n",
      "Epoch 8/20\n",
      " - 0s - loss: 0.0017 - acc: 8.0000e-04 - val_loss: 0.0095 - val_acc: 0.0000e+00\n",
      "Epoch 9/20\n",
      " - 0s - loss: 0.0030 - acc: 8.0000e-04 - val_loss: 0.0123 - val_acc: 0.0000e+00\n",
      "Epoch 10/20\n",
      " - 0s - loss: 0.0024 - acc: 8.0000e-04 - val_loss: 0.0100 - val_acc: 0.0000e+00\n",
      "Epoch 11/20\n",
      " - 0s - loss: 0.0051 - acc: 8.0000e-04 - val_loss: 0.0138 - val_acc: 0.0000e+00\n",
      "Epoch 12/20\n",
      " - 0s - loss: 0.0035 - acc: 8.0000e-04 - val_loss: 0.0089 - val_acc: 0.0000e+00\n",
      "Epoch 13/20\n",
      " - 0s - loss: 0.0017 - acc: 8.0000e-04 - val_loss: 0.0090 - val_acc: 0.0000e+00\n",
      "Epoch 14/20\n",
      " - 0s - loss: 0.0020 - acc: 8.0000e-04 - val_loss: 0.0090 - val_acc: 0.0000e+00\n",
      "Epoch 15/20\n",
      " - 0s - loss: 0.0016 - acc: 8.0000e-04 - val_loss: 0.0092 - val_acc: 0.0000e+00\n",
      "Epoch 16/20\n",
      " - 0s - loss: 0.0017 - acc: 8.0000e-04 - val_loss: 0.0093 - val_acc: 0.0000e+00\n",
      "Epoch 17/20\n",
      " - 0s - loss: 0.0033 - acc: 8.0000e-04 - val_loss: 0.0134 - val_acc: 0.0000e+00\n",
      "Epoch 18/20\n",
      " - 0s - loss: 0.0030 - acc: 8.0000e-04 - val_loss: 0.0097 - val_acc: 0.0000e+00\n",
      "Epoch 19/20\n",
      " - 0s - loss: 0.0047 - acc: 8.0000e-04 - val_loss: 0.0092 - val_acc: 0.0000e+00\n",
      "Epoch 20/20\n",
      " - 0s - loss: 0.0045 - acc: 8.0000e-04 - val_loss: 0.0091 - val_acc: 0.0000e+00\n"
     ]
    },
    {
     "data": {
      "image/png": "[encoded data removed]",
      "text/plain": [
       "<matplotlib.figure.Figure at 0x7f6f85cc8588>"
      ]
     },
     "metadata": {},
     "output_type": "display_data"
    },
    {
     "data": {
      "image/png": "[encoded data removed]",
      "text/plain": [
       "<matplotlib.figure.Figure at 0x7f6f86ee4160>"
      ]
     },
     "metadata": {},
     "output_type": "display_data"
    }
   ],
   "source": [
    "# fit network\n",
    "history = model.fit(train_X, train_y, epochs=20, batch_size=72, validation_data=(test_X, test_y), verbose=2, shuffle=False)\n",
    "\n",
    "# plot history\n",
    "pyplot.plot(history.history['loss'], label='train')\n",
    "pyplot.plot(history.history['val_loss'], label='test')\n",
    "pyplot.legend()\n",
    "pyplot.show()\n",
    "# plot history\n",
    "pyplot.plot(history.history['acc'], label='accuracy')\n",
    "pyplot.legend()\n",
    "pyplot.show()\n"
   ]
  },
  {
   "cell_type": "code",
   "execution_count": 138,
   "metadata": {
    "collapsed": false
   },
   "outputs": [
    {
     "name": "stdout",
     "output_type": "stream",
     "text": [
      "(122, 2, 4)\n",
      "(122, 2, 4)\n",
      "(122, 1)\n",
      "(122, 8)\n",
      "(122, 1)\n",
      "inv_hat\n",
      "Test RMSE: 0.969\n"
     ]
    }
   ],
   "source": [
    "print(test_X.shape)\n",
    "test_X = test_X.reshape((test_X.shape[0], n_hours, n_features))\n",
    "print(test_X.shape)\n",
    "# make a prediction\n",
    "yhat = model.predict(test_X)\n",
    "print(yhat.shape)\n",
    "test_X = test_X.reshape((test_X.shape[0], n_hours*n_features))\n",
    "print(test_X.shape)\n",
    "\n",
    "# invert scaling for forecast\n",
    "print(yhat.shape)\n",
    "inv_yhat = concatenate((yhat, test_X[:, -7:]), axis=1)\n",
    "print(\"inv_hat\")\n",
    "\n",
    "inv_yhat = scaler.inverse_transform(inv_yhat)\n",
    "inv_yhat = inv_yhat[:,0]\n",
    "#invert scaling for actual\n",
    "test_y = test_y.reshape((len(test_y), 1))\n",
    "inv_y = concatenate((test_y, test_X[:, -7:]), axis=1)\n",
    "inv_y = scaler.inverse_transform(inv_y)\n",
    "inv_y = inv_y[:,0]\n",
    "# calculate RMSE\n",
    "rmse = sqrt(mean_squared_error(inv_y, inv_yhat))\n",
    "#rmse = sqrt(mean_squared_error(yhat, test_X[:, -1:]))\n",
    "print('Test RMSE: %.3f' % rmse)"
   ]
  }
 ],
 "metadata": {
  "kernelspec": {
   "display_name": "Python [default]",
   "language": "python",
   "name": "python3"
  },
  "language_info": {
   "codemirror_mode": {
    "name": "ipython",
    "version": 3
   },
   "file_extension": ".py",
   "mimetype": "text/x-python",
   "name": "python",
   "nbconvert_exporter": "python",
   "pygments_lexer": "ipython3",
   "version": "3.5.2"
  }
 },
 "nbformat": 4,
 "nbformat_minor": 2
}
